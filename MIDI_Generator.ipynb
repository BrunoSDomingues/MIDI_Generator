{
 "cells": [
  {
   "cell_type": "markdown",
   "id": "561ad5f3",
   "metadata": {},
   "source": [
    "# Gerador de Músicas MIDI\n",
    "\n",
    "O projeto consiste em realizar um estudo no qual serão geradas músicas sem intervenção humana. Para tal, utilizou-se de músicas clássicas de Chopin como dataset e um modelo de Deep Learning.\n",
    "\n",
    "## Deep Learning - Uma breve introdução\n",
    "\n",
    "O Deep Learning é um algoritmo de Machine Learning, no qual são utilizadas redes neurais que buscam \"aprender\" de forma similar ao comportamento humano.\n",
    "\n",
    "Uma forma simples de entender é imaginar uma criança aprendendo a reconhecer objetos. A criança pode apontar para um objeto e dizer que é um carro. Dado isto, o pai/a mãe da criança pode reagir de duas maneiras: confirmar que o objeto que a criança apontou é um carro, ou falar \"Não, isto é um jarro\". Ao receber feedback suficiente, a criança começa a internalizar as características de cada objeto e cria um modelo mental que ajuda ela a reconhecer os diferentes objetos. Este modelo depende de uma comunicação efetiva entre os neurônios, transmitindo diferentes sinais e gerando este modelo complexo e hierárquico baseado no feedback recebido.\n",
    "\n",
    "O Deep Learning busca replicar este comportamento, criando um modelo no qual não é necessário entender cada etapa e decisão feita devido à complexidade e profundidade deste. Para criar o modelo, são utilizadas múltiplas camadas de \"neurônios digitais\", que vão repassando o aprendizado de camada em camada.\n",
    "\n",
    "Inicialmente, o modelo é alimentado com os dados a serem utilizados, e este tenta prever os dados, sem nenhuma intervenção. As previsões iniciais irão ser completamente (ou em sua maior parte) incorretas, mas conforme o modelo recebe feedback de suas previões, ele ajusta a comunicação entre seus \"neurônios\" até ser capaz de gerar previsões mais acuradas.\n",
    "\n",
    "Existem diversos modelos de Deep Learning, e para o desenvolvimento deste projeto, irá ser utilizado o modelo de WaveNet.\n",
    "\n",
    "## WaveNet\n",
    "\n",
    "O WaveNet é um modelo de Deep Learning para áudios \"crus\" desenvolvido pelo Google DeepMind. Ele é chamado de \"generative model\", pois tem como objetivo gerar novos samples a partir da distribuição original dos dados. Ele atua de forma similar aos modelos de linguagem utilizados em NLP.\n",
    "\n",
    "### Treinando o WaveNet\n",
    "\n",
    "Para treinar o modelo de WaveNet, utiliza-se um trecho de uma onda crua de áudio (no caso, a onda de áudio no domínio do tempo) como input. Uma onda de áudio no domínio do tempo é representada na forma de diferente valores de amplitude em diferentes intervalos de tempo, como é possível visualizar no gif abaixo.\n",
    "\n",
    "![Onda de áudio no domínio do tempo](https://jvbalen.github.io/figs/wavenet.gif)\n",
    "\n",
    "A partir da sequência de valores de amplitude, o WaveNet tenta prever qual valor de amplitude vem em seguida. Neste caso, o output depende somente das informações prévias, e não das informações que ainda serão obtidas, o que classifica este modelo como autoregressivo."
   ]
  },
  {
   "cell_type": "code",
   "execution_count": 1,
   "id": "a1f4e98b",
   "metadata": {},
   "outputs": [],
   "source": [
    "# System libraries\n",
    "from pathlib import Path\n",
    "from collections import Counter\n",
    "from itertools import tee\n",
    "\n",
    "# Numpy for arrays and matplotlib for notes histogram\n",
    "import numpy as np\n",
    "import matplotlib.pyplot as plt\n",
    "\n",
    "# Music21 library for MIDI reading and creating\n",
    "from music21.converter import parse\n",
    "from music21.note import Note\n",
    "from music21.chord import Chord\n",
    "from music21.instrument import Piano, partitionByInstrument\n",
    "from music21.stream import Stream\n",
    "from music21.midi import MidiFile\n",
    "from music21.midi.translate import midiFileToStream\n",
    "\n",
    "# sklearn to split train and test \n",
    "from sklearn.model_selection import train_test_split"
   ]
  },
  {
   "cell_type": "code",
   "execution_count": 74,
   "id": "0afc42f1",
   "metadata": {},
   "outputs": [],
   "source": [
    "# Chopin = 0, Schumann = 1\n",
    "music = 1\n",
    "\n",
    "if music == 0:\n",
    "    extracted_folder_path = \"chopin/\"\n",
    "    model_name = \"model.h5\"\n",
    "    midi_file = \"music_chopin.mid\"\n",
    "    threshold = 40\n",
    "    seed = 10\n",
    "else:\n",
    "    extracted_folder_path = \"schumann/\"\n",
    "    model_name = \"model2.h5\"\n",
    "    midi_file = \"music_schumann.mid\"\n",
    "    threshold = 20\n",
    "    seed = 1\n",
    "\n",
    "# Enable threading (CPU go vroom)\n",
    "threaded = True "
   ]
  },
  {
   "cell_type": "code",
   "execution_count": 72,
   "id": "624bebf0",
   "metadata": {},
   "outputs": [],
   "source": [
    "train_model = False\n",
    "\n",
    "if train_model:\n",
    "    # keras to train the model\n",
    "    import keras.backend as kb\n",
    "    import keras.callbacks as kc\n",
    "    import keras.layers as kl\n",
    "    import keras.models as km\n",
    "else:\n",
    "    # keras to load the model only\n",
    "    from keras.models import load_model"
   ]
  },
  {
   "cell_type": "code",
   "execution_count": 33,
   "id": "f0c19ce2",
   "metadata": {},
   "outputs": [],
   "source": [
    "def read_midi(file):   \n",
    "    notes = []\n",
    "    \n",
    "    # Parsing the MIDI file\n",
    "    midi = parse(file)\n",
    "  \n",
    "    # Partition by instrument\n",
    "    partition = partitionByInstrument(midi)\n",
    "\n",
    "    # Looping over all the instruments\n",
    "    for part in partition.parts:\n",
    "        # Select only the piano\n",
    "        if 'Piano' not in str(part):\n",
    "            continue\n",
    "\n",
    "        # Checking if it is a note or a chord\n",
    "        for element in part.recurse():\n",
    "            if isinstance(element, Note):\n",
    "                notes.append(str(element.pitch))\n",
    "\n",
    "            elif isinstance(element, Chord):\n",
    "                notes.append('.'.join(map(str, element.normalOrder)))\n",
    "\n",
    "    return np.array(notes)"
   ]
  },
  {
   "cell_type": "code",
   "execution_count": 34,
   "id": "45d01016",
   "metadata": {},
   "outputs": [
    {
     "name": "stderr",
     "output_type": "stream",
     "text": [
      "/usr/lib/python3.9/site-packages/music21/midi/translate.py:785: TranslateWarning: Unable to determine instrument from <music21.midi.MidiEvent SEQUENCE_TRACK_NAME, track=0, channel=None, data=b'Schumann:   Fr\\xf6hlicher Landmann, von der Arbeit zur\\xfcckkehrend'>; getting generic Instrument\n",
      "  warnings.warn(\n",
      "/usr/lib/python3.9/site-packages/music21/midi/translate.py:785: TranslateWarning: Unable to determine instrument from <music21.midi.MidiEvent SEQUENCE_TRACK_NAME, track=0, channel=None, data=b'aus Album f\\xfcr die Jugend Opus 68, Nr. 10'>; getting generic Instrument\n",
      "  warnings.warn(\n",
      "/usr/lib/python3.9/site-packages/music21/midi/translate.py:785: TranslateWarning: Unable to determine instrument from <music21.midi.MidiEvent SEQUENCE_TRACK_NAME, track=0, channel=None, data=b'F\\xfcrchtenmachen'>; getting generic Instrument\n",
      "  warnings.warn(\n",
      "/usr/lib/python3.9/site-packages/music21/midi/translate.py:785: TranslateWarning: Unable to determine instrument from <music21.midi.MidiEvent SEQUENCE_TRACK_NAME, track=0, channel=None, data=b'Gl\\xfcckes genug'>; getting generic Instrument\n",
      "  warnings.warn(\n",
      "/usr/lib/python3.9/site-packages/music21/midi/translate.py:785: TranslateWarning: Unable to determine instrument from <music21.midi.MidiEvent SEQUENCE_TRACK_NAME, track=4, channel=None, data=b'Schumann: Fr\\xf6hlicher Landmann'>; getting generic Instrument\n",
      "  warnings.warn(\n",
      "/usr/lib/python3.9/site-packages/music21/midi/translate.py:785: TranslateWarning: Unable to determine instrument from <music21.midi.MidiEvent SEQUENCE_TRACK_NAME, track=5, channel=None, data=b'Copyright \\xa9 2008 by Bernd Krueger'>; getting generic Instrument\n",
      "  warnings.warn(\n",
      "/usr/lib/python3.9/site-packages/music21/midi/translate.py:785: TranslateWarning: Unable to determine instrument from <music21.midi.MidiEvent SEQUENCE_TRACK_NAME, track=4, channel=None, data=b'Copyright \\xa9 1997 by Bernd Krueger'>; getting generic Instrument\n",
      "  warnings.warn(\n",
      "/usr/lib/python3.9/site-packages/music21/midi/translate.py:785: TranslateWarning: Unable to determine instrument from <music21.midi.MidiEvent SEQUENCE_TRACK_NAME, track=4, channel=None, data=b'Copyright \\xa9 1997 by Bernd Krueger'>; getting generic Instrument\n",
      "  warnings.warn(\n",
      "/usr/lib/python3.9/site-packages/music21/midi/translate.py:785: TranslateWarning: Unable to determine instrument from <music21.midi.MidiEvent SEQUENCE_TRACK_NAME, track=4, channel=None, data=b'Copyright \\xa9 1997 by Bernd Krueger'>; getting generic Instrument\n",
      "  warnings.warn(\n",
      "/usr/lib/python3.9/site-packages/music21/midi/translate.py:785: TranslateWarning: Unable to determine instrument from <music21.midi.MidiEvent SEQUENCE_TRACK_NAME, track=5, channel=None, data=b'Copyright \\xa9 2007 by Bernd Krueger'>; getting generic Instrument\n",
      "  warnings.warn(\n",
      "/usr/lib/python3.9/site-packages/music21/midi/translate.py:785: TranslateWarning: Unable to determine instrument from <music21.midi.MidiEvent SEQUENCE_TRACK_NAME, track=4, channel=None, data=b'Copyright \\xa9 1997 by Bernd Krueger'>; getting generic Instrument\n",
      "  warnings.warn(\n",
      "/usr/lib/python3.9/site-packages/music21/midi/translate.py:785: TranslateWarning: Unable to determine instrument from <music21.midi.MidiEvent SEQUENCE_TRACK_NAME, track=0, channel=None, data=b'Schumann: Knecht Ruprecht aus  Album f\\xfcr die Jugend Opus 68'>; getting generic Instrument\n",
      "  warnings.warn(\n",
      "/usr/lib/python3.9/site-packages/music21/midi/translate.py:785: TranslateWarning: Unable to determine instrument from <music21.midi.MidiEvent SEQUENCE_TRACK_NAME, track=0, channel=None, data=b'Tr\\xe4umerei'>; getting generic Instrument\n",
      "  warnings.warn(\n",
      "/usr/lib/python3.9/site-packages/music21/midi/translate.py:785: TranslateWarning: Unable to determine instrument from <music21.midi.MidiEvent SEQUENCE_TRACK_NAME, track=4, channel=None, data=b'Copyright \\xa9 1997 by Bernd Krueger'>; getting generic Instrument\n",
      "  warnings.warn(\n",
      "/usr/lib/python3.9/site-packages/music21/midi/translate.py:785: TranslateWarning: Unable to determine instrument from <music21.midi.MidiEvent SEQUENCE_TRACK_NAME, track=0, channel=None, data=b'Von fremden L\\xe4ndern und Menschen'>; getting generic Instrument\n",
      "  warnings.warn(\n",
      "/usr/lib/python3.9/site-packages/music21/midi/translate.py:785: TranslateWarning: Unable to determine instrument from <music21.midi.MidiEvent SEQUENCE_TRACK_NAME, track=4, channel=None, data=b'Copyright \\xa9 1997 by Bernd Krueger'>; getting generic Instrument\n",
      "  warnings.warn(\n",
      "/usr/lib/python3.9/site-packages/music21/midi/translate.py:785: TranslateWarning: Unable to determine instrument from <music21.midi.MidiEvent SEQUENCE_TRACK_NAME, track=5, channel=None, data=b'Copyright \\xa9 2007 by Bernd Krueger'>; getting generic Instrument\n",
      "  warnings.warn(\n",
      "/usr/lib/python3.9/site-packages/music21/midi/translate.py:785: TranslateWarning: Unable to determine instrument from <music21.midi.MidiEvent SEQUENCE_TRACK_NAME, track=5, channel=None, data=b'Copyright \\xa9 2007 by Bernd Krueger'>; getting generic Instrument\n",
      "  warnings.warn(\n",
      "/usr/lib/python3.9/site-packages/music21/midi/translate.py:785: TranslateWarning: Unable to determine instrument from <music21.midi.MidiEvent SEQUENCE_TRACK_NAME, track=5, channel=None, data=b'Copyright \\xa9 2008 by Bernd Krueger'>; getting generic Instrument\n",
      "  warnings.warn(\n",
      "/usr/lib/python3.9/site-packages/music21/midi/translate.py:785: TranslateWarning: Unable to determine instrument from <music21.midi.MidiEvent SEQUENCE_TRACK_NAME, track=5, channel=None, data=b'Copyright \\xa9 2006 by Bernd Krueger'>; getting generic Instrument\n",
      "  warnings.warn(\n",
      "/usr/lib/python3.9/site-packages/music21/midi/translate.py:785: TranslateWarning: Unable to determine instrument from <music21.midi.MidiEvent SEQUENCE_TRACK_NAME, track=5, channel=None, data=b'Copyright \\xa9 2007 by Bernd Krueger'>; getting generic Instrument\n",
      "  warnings.warn(\n",
      "/usr/lib/python3.9/site-packages/music21/midi/translate.py:785: TranslateWarning: Unable to determine instrument from <music21.midi.MidiEvent SEQUENCE_TRACK_NAME, track=5, channel=None, data=b'Copyright \\xa9 2007 by Bernd Krueger'>; getting generic Instrument\n",
      "  warnings.warn(\n",
      "/usr/lib/python3.9/site-packages/music21/midi/translate.py:785: TranslateWarning: Unable to determine instrument from <music21.midi.MidiEvent SEQUENCE_TRACK_NAME, track=5, channel=None, data=b'Copyright \\xa9 2007 by Bernd Krueger'>; getting generic Instrument\n",
      "  warnings.warn(\n",
      "/usr/lib/python3.9/site-packages/music21/midi/translate.py:785: TranslateWarning: Unable to determine instrument from <music21.midi.MidiEvent SEQUENCE_TRACK_NAME, track=5, channel=None, data=b'Copyright \\xa9 2007 by Bernd Krueger'>; getting generic Instrument\n",
      "  warnings.warn(\n",
      "/usr/lib/python3.9/site-packages/music21/midi/translate.py:785: TranslateWarning: Unable to determine instrument from <music21.midi.MidiEvent SEQUENCE_TRACK_NAME, track=4, channel=None, data=b'Copyright \\xa9 2004 by Bernd Kr\\xfcger'>; getting generic Instrument\n",
      "  warnings.warn(\n"
     ]
    }
   ],
   "source": [
    "files = (p for p in Path(extracted_folder_path).rglob(\"*\") if p.is_file() and p.suffix == \".mid\")\n",
    "\n",
    "if threaded:\n",
    "    from concurrent.futures import ProcessPoolExecutor\n",
    "\n",
    "    with ProcessPoolExecutor() as pool:\n",
    "        notes_list = list(pool.map(read_midi, files))\n",
    "else:\n",
    "    notes_list = list(map(read_midi, files))"
   ]
  },
  {
   "cell_type": "code",
   "execution_count": 35,
   "id": "cb61e0b7",
   "metadata": {},
   "outputs": [],
   "source": [
    "# Flattening notes_list\n",
    "notes_f = np.concatenate(notes_list).ravel()"
   ]
  },
  {
   "cell_type": "code",
   "execution_count": 36,
   "id": "5b999f77",
   "metadata": {},
   "outputs": [
    {
     "name": "stdout",
     "output_type": "stream",
     "text": [
      "Number of unique notes: 247\n"
     ]
    },
    {
     "data": {
      "image/png": "[encoded data removed]",
      "text/plain": [
       "<Figure size 360x360 with 1 Axes>"
      ]
     },
     "metadata": {
      "image/png": {
       "height": 302,
       "width": 319
      },
      "needs_background": "light"
     },
     "output_type": "display_data"
    }
   ],
   "source": [
    "# Get frequency of each note\n",
    "unique_notes, counts = np.unique(notes_f, return_counts=True)\n",
    "\n",
    "print(f\"Number of unique notes: {len(unique_notes)}\")\n",
    "\n",
    "# Plot histogram\n",
    "plt.figure(figsize=(5,5))\n",
    "plt.hist(counts);"
   ]
  },
  {
   "cell_type": "code",
   "execution_count": 38,
   "id": "781ce82c",
   "metadata": {},
   "outputs": [],
   "source": [
    "# Getting the most frequent notes\n",
    "frequent_notes = frozenset(unique_notes[counts >= threshold])"
   ]
  },
  {
   "cell_type": "code",
   "execution_count": 39,
   "id": "5d6ca8ab",
   "metadata": {},
   "outputs": [],
   "source": [
    "# Convert note to int and vice-versa\n",
    "\n",
    "# Use tee to guarantee the iterators are the same\n",
    "enum_it, rev_enum_it = tee(enumerate(sorted(list(frequent_notes))))\n",
    "\n",
    "# Helper functions\n",
    "d_int_to_note = dict(enum_it)\n",
    "int_to_note = lambda idx: d_int_to_note[idx]\n",
    "\n",
    "d_note_to_int = {note: idx for idx, note in rev_enum_it}\n",
    "note_to_int = lambda idx: d_note_to_int[idx]"
   ]
  },
  {
   "cell_type": "code",
   "execution_count": 40,
   "id": "2d4c821c",
   "metadata": {},
   "outputs": [],
   "source": [
    "new_music = []\n",
    "\n",
    "# Adding the most frequent notes\n",
    "for notes in notes_list:\n",
    "    new_music.append([d_note_to_int[note] for note in notes if note in frequent_notes])"
   ]
  },
  {
   "cell_type": "code",
   "execution_count": 41,
   "id": "5690ea9d",
   "metadata": {},
   "outputs": [],
   "source": [
    "n_timesteps = 32\n",
    "X = []\n",
    "y = []\n",
    "\n",
    "for note in new_music:\n",
    "    for start in range(len(note) - n_timesteps):\n",
    "        end = start + n_timesteps\n",
    "        X.append(note[start:end])  # Input\n",
    "        y.append(note[end])        # Output"
   ]
  },
  {
   "cell_type": "code",
   "execution_count": 42,
   "id": "9dbfed16",
   "metadata": {},
   "outputs": [],
   "source": [
    "X_train, X_val, y_train, y_val = train_test_split(np.array(X), np.array(y), test_size=0.3, random_state=42)"
   ]
  },
  {
   "cell_type": "markdown",
   "id": "a3459fe2",
   "metadata": {},
   "source": [
    "### Arquitetura WaveNet\n",
    "\n",
    "Os pilares da arquitetura WaveNet estão em suas camadas de rede neural, as quais são chamadas de \"Causal Diluted 1D Convolution layers\". Mas o que significa isso? Para tal, devemos ir por partes. \n",
    "\n",
    "O primeiro conceito importante é o conceito de \"convolution\": é uma operação matemática na qual é feita uma forma de combinação entre 2 funções. Um exemplo disto é em visão computacional, onde pode ser feita uma combinação linear de uma imagem com um kernel, resultando em uma imagem que possui um filtro. Estendendo este conceito, podemos seguir para a \"1D Convolution\". Como o nome diz, ela é unidimensional, e nela o kernel/filtro se move em apenas uma direção de modo a gerar um output. A imagem abaixo mostra como um kernel (representado pelos blocos verdes) e um input (representado pelos blocos amarelos) formam um output (representado pelos blocos roxos).\n",
    "\n",
    "![1D Convolution](https://www.researchgate.net/publication/324177888/figure/fig3/AS:611641670504448@1522838146178/Calculations-involved-in-a-1D-convolution-operation.png)\n",
    "\n",
    "O output depende do tamanho do kernel, do padding, e do stride. Para este estudo, o mais importante é o padding. O padding é a ideia de possivelmente adicionar zeros à esquerda ou à direita do input de modo a gerar um output com o mesmo tamanho do input. Em 1D Convolution, existem três opções de padding:\n",
    "\n",
    "- `valid`: sem padding algum;\n",
    "- `same`: padding simétrico (mesma quantidade de zeros na esquerda e na direita);\n",
    "- `causal`: adiciona-se zeros **somente** à esquerda do input;\n",
    "\n",
    "Para nosso estudo, o padding será definido como `causal`, pois assim podemos garantir que nosso modelo depende apenas do dado atual e de dados anteriores, nunca de dados futuros (explicando assim o conceito de Causal 1D Convolution).\n",
    "\n",
    "Por fim, resta o conceito de Dilated Causal 1D Convolution. O \"Dilated\" consiste em \"furos\" ou espaços vazios entre os valores do kernel, de modo intercalado. O número de espaços depende do dilation rate do kernel, que define o chamado reception field da rede (quantidade de inputs que diretamente afetam o output). Para um kernel de tamanho `k` e um dilation rate de tamanho `d`, a nossa camada possui `d-1` espaços entre cada valor do kernel. Na imagem abaixo é possível ver um exemplo de kernel de tamanho 3x3 com dilation rate de 2 em um input de tamanho 7x7, o que gera um reception field de tamanho 5x5.\n",
    "\n",
    "![Dilated 1D Causal Convolution](https://qph.fs.quoracdn.net/main-qimg-7b3eea90fe8154efbdb14f451f6cc179-lq)\n",
    "\n",
    "Para agilizar a convergência dos dados existem também as conexões Residual e Skip, mas estas não serão utilizadas neste estudo."
   ]
  },
  {
   "cell_type": "code",
   "execution_count": 43,
   "id": "074b4163",
   "metadata": {},
   "outputs": [
    {
     "name": "stdout",
     "output_type": "stream",
     "text": [
      "Model: \"sequential\"\n",
      "_________________________________________________________________\n",
      " Layer (type)                Output Shape              Param #   \n",
      "=================================================================\n",
      " embedding (Embedding)       (None, 32, 100)           13900     \n",
      "                                                                 \n",
      " conv1d (Conv1D)             (None, 32, 64)            19264     \n",
      "                                                                 \n",
      " dropout (Dropout)           (None, 32, 64)            0         \n",
      "                                                                 \n",
      " max_pooling1d (MaxPooling1D  (None, 16, 64)           0         \n",
      " )                                                               \n",
      "                                                                 \n",
      " conv1d_1 (Conv1D)           (None, 16, 128)           24704     \n",
      "                                                                 \n",
      " dropout_1 (Dropout)         (None, 16, 128)           0         \n",
      "                                                                 \n",
      " max_pooling1d_1 (MaxPooling  (None, 8, 128)           0         \n",
      " 1D)                                                             \n",
      "                                                                 \n",
      " conv1d_2 (Conv1D)           (None, 8, 256)            98560     \n",
      "                                                                 \n",
      " dropout_2 (Dropout)         (None, 8, 256)            0         \n",
      "                                                                 \n",
      " max_pooling1d_2 (MaxPooling  (None, 4, 256)           0         \n",
      " 1D)                                                             \n",
      "                                                                 \n",
      " global_max_pooling1d (Globa  (None, 256)              0         \n",
      " lMaxPooling1D)                                                  \n",
      "                                                                 \n",
      " dense (Dense)               (None, 256)               65792     \n",
      "                                                                 \n",
      " dense_1 (Dense)             (None, 139)               35723     \n",
      "                                                                 \n",
      "=================================================================\n",
      "Total params: 257,943\n",
      "Trainable params: 257,943\n",
      "Non-trainable params: 0\n",
      "_________________________________________________________________\n"
     ]
    }
   ],
   "source": [
    "if train_model:\n",
    "    kb.clear_session()\n",
    "    model = km.Sequential()\n",
    "\n",
    "    model.add(kl.Embedding(len(frequent_notes), 100, input_length=32, trainable=True)) \n",
    "\n",
    "    model.add(kl.Conv1D(64, 3, activation='relu', padding='causal'))\n",
    "    model.add(kl.Dropout(0.2))\n",
    "    model.add(kl.MaxPool1D(2))\n",
    "\n",
    "    model.add(kl.Conv1D(128, 3, activation='relu', dilation_rate=2, padding='causal'))\n",
    "    model.add(kl.Dropout(0.2))\n",
    "    model.add(kl.MaxPool1D(2))\n",
    "\n",
    "    model.add(kl.Conv1D(256, 3, activation='relu', dilation_rate=4, padding='causal'))\n",
    "    model.add(kl.Dropout(0.2))\n",
    "    model.add(kl.MaxPool1D(2))\n",
    "\n",
    "    model.add(kl.GlobalMaxPool1D())\n",
    "\n",
    "    model.add(kl.Dense(256, activation='relu'))\n",
    "    model.add(kl.Dense(len(frequent_notes), activation='softmax'))\n",
    "\n",
    "    model.compile(loss='sparse_categorical_crossentropy', optimizer='adam')\n",
    "\n",
    "    model.summary()"
   ]
  },
  {
   "cell_type": "code",
   "execution_count": 73,
   "id": "c007ea7c",
   "metadata": {},
   "outputs": [],
   "source": [
    "if train_model:\n",
    "    mc = kc.ModelCheckpoint(model_name, monitor='val_loss', mode='min', save_best_only=True, verbose=1)\n",
    "    history = model.fit(X_train, y_train, batch_size=128, epochs=30, validation_data=(X_val, y_val), verbose=1, callbacks=[mc])\n",
    "else:\n",
    "    model = load_model(model_name)"
   ]
  },
  {
   "cell_type": "markdown",
   "id": "3014ff90",
   "metadata": {},
   "source": [
    "### Gerando novas samples\n",
    "\n",
    "Para gerar uma música com samples anteriores, basta seguir a lógica abaixo:\n",
    "\n",
    "1. Selecionar um array com diferentes valores aleatórios de samples como ponto de início\n",
    "2. O modelo calcula a distribuição de probabilidades de todas as samples\n",
    "3. O modelo obtém a sample com maior probabilidade e coloca ela no final do array\n",
    "4. Remove-se o primeiro elemento do array e reinsere-se o novo array como input\n",
    "5. Repetem-se os passos 2 a 4 por um número `n` de iterações"
   ]
  },
  {
   "cell_type": "code",
   "execution_count": 75,
   "id": "56d25d2c",
   "metadata": {},
   "outputs": [
    {
     "name": "stdout",
     "output_type": "stream",
     "text": [
      "[89, 77, 87, 89, 43, 89, 43, 99, 105, 99, 116, 32, 105, 105, 105]\n"
     ]
    }
   ],
   "source": [
    "np.random.seed(seed)\n",
    "idx = np.random.randint(0, X_val.shape[0] - 1)\n",
    "\n",
    "samples = X_val[idx]\n",
    "predictions = []\n",
    "\n",
    "for i in range(15):\n",
    "    # Reshape to avoid incompatibility\n",
    "    samples = samples.reshape((1, n_timesteps))\n",
    "\n",
    "    prob = model.predict(samples)[0]\n",
    "    y_pred = np.argmax(prob, axis=0)\n",
    "    predictions.append(y_pred)\n",
    "\n",
    "    samples = np.insert(samples[0], len(samples[0]), y_pred)\n",
    "    samples = samples[1:]\n",
    "\n",
    "print(predictions)"
   ]
  },
  {
   "cell_type": "code",
   "execution_count": 64,
   "id": "15a280bd",
   "metadata": {},
   "outputs": [],
   "source": [
    "def convert_to_midi(predicted, file):\n",
    "    output = []\n",
    "\n",
    "    # Create Note and Chord objects\n",
    "    for offset, pattern in enumerate(predicted):\n",
    "        if '.' in pattern or pattern.isdigit():\n",
    "            notes = []\n",
    "            \n",
    "            for current_note in pattern.split('.'):\n",
    "                note = Note(int(current_note))\n",
    "                note.storedInstrument = Piano()\n",
    "                notes.append(note)\n",
    "                \n",
    "            chord = Chord(notes)\n",
    "            chord.offset = offset\n",
    "            output.append(chord)\n",
    "\n",
    "        else:\n",
    "            note = Note(pattern)\n",
    "            note.offset = offset\n",
    "            note.storedInstrument = Piano()\n",
    "            output.append(note)\n",
    "    \n",
    "    # Deleting previously generated MIDI file, if any\n",
    "    Path(file).unlink(missing_ok=True)\n",
    "    \n",
    "    midi_stream = Stream(output)\n",
    "    midi_stream.write('midi', fp=file)"
   ]
  },
  {
   "cell_type": "code",
   "execution_count": 65,
   "id": "325e004e",
   "metadata": {},
   "outputs": [],
   "source": [
    "def show_player(file):\n",
    "    # Shows MIDI in player\n",
    "    # https://stackoverflow.com/questions/57021743/how-to-play-audio-inline-using-ipython-display-audio\n",
    "    mf = MidiFile()\n",
    "    mf.open(file)\n",
    "    mf.read()\n",
    "    mf.close()\n",
    "    midiFileToStream(mf).show('midi')"
   ]
  },
  {
   "cell_type": "markdown",
   "id": "8b64de98",
   "metadata": {},
   "source": [
    "## Resultados"
   ]
  },
  {
   "cell_type": "markdown",
   "id": "a10e67f4",
   "metadata": {},
   "source": [
    "### Chopin"
   ]
  },
  {
   "cell_type": "code",
   "execution_count": 67,
   "id": "5515b886",
   "metadata": {},
   "outputs": [
    {
     "data": {
      "text/html": [
       "\n",
       "                <div id='midiPlayerDiv2205'></div>\n",
       "                <link rel=\"stylesheet\" href=\"//cuthbertLab.github.io/music21j/css/m21.css\"\n",
       "                    type=\"text/css\" />\n",
       "                <script>\n",
       "                require.config({\n",
       "                    paths: {'music21': '//cuthbertLab.github.io/music21j/src/music21'}\n",
       "                });\n",
       "                require(['music21'], function() {\n",
       "                               mp = new music21.miditools.MidiPlayer();\n",
       "                               mp.addPlayer('#midiPlayerDiv2205');\n",
       "                               mp.base64Load('data:audio/midi;base64,TVRoZAAAAAYAAQACBABNVHJrAAAAFAD/UQMHoSAA/1gEBAIYCIgA/y8ATVRyawAAAMAA/wMAAOAAQADAAIgAkElaiACASQAAkExaiACATAAAkEdaiACARwAAkEBaAJBFWogAgEAAAIBFAACQLVqIAIAtAACQQFoAkEVaiACAQAAAgEUAAJAmWogAgCYAAJBDWgCQRVqIAIBDAACARQAAkENaAJBFWogAgEMAAIBFAACQQFqIAIBAAACQMlqIAIAyAACQQ1oAkEVaiACAQwAAgEUAAJAyWogAgDIAAJAmWogAgCYAAJAyWogAgDIAiAD/LwA=');\n",
       "                        });\n",
       "                </script>"
      ],
      "text/plain": [
       "<IPython.core.display.HTML object>"
      ]
     },
     "metadata": {},
     "output_type": "display_data"
    }
   ],
   "source": [
    "midi_file = \"music_chopin.mid\"\n",
    "\n",
    "# Run only if generating new MIDI (check if the model is the correct one!)\n",
    "# convert_to_midi(predicitons, midi_file)\n",
    "\n",
    "show_player(midi_file)"
   ]
  },
  {
   "cell_type": "markdown",
   "id": "5f511dd7",
   "metadata": {},
   "source": [
    "### Schumann"
   ]
  },
  {
   "cell_type": "code",
   "execution_count": 77,
   "id": "c66213ef",
   "metadata": {
    "scrolled": true
   },
   "outputs": [
    {
     "data": {
      "text/html": [
       "\n",
       "                <div id='midiPlayerDiv3497'></div>\n",
       "                <link rel=\"stylesheet\" href=\"//cuthbertLab.github.io/music21j/css/m21.css\"\n",
       "                    type=\"text/css\" />\n",
       "                <script>\n",
       "                require.config({\n",
       "                    paths: {'music21': '//cuthbertLab.github.io/music21j/src/music21'}\n",
       "                });\n",
       "                require(['music21'], function() {\n",
       "                               mp = new music21.miditools.MidiPlayer();\n",
       "                               mp.addPlayer('#midiPlayerDiv3497');\n",
       "                               mp.base64Load('data:audio/midi;base64,TVRoZAAAAAYAAQACBABNVHJrAAAAFAD/UQMHoSAA/1gEBAIYCIgA/y8ATVRyawAAALAA/wMAAOAAQADAAIgAkEdaiACARwAAkEVaiACARQAAkC9aiACALwAAkEdaiACARwAAkEBaAJBDWogAgEAAAIBDAACQR1qIAIBHAACQQFoAkENaiACAQAAAgEMAAJBIWogAgEgAAJBKWogAgEoAAJBIWogAgEgAAJBMWogAgEwAAJA+WgCQQ1qIAIA+AACAQwAAkEpaiACASgAAkEpaiACASgAAkEpaiACASgCIAP8vAA==');\n",
       "                        });\n",
       "                </script>"
      ],
      "text/plain": [
       "<IPython.core.display.HTML object>"
      ]
     },
     "metadata": {},
     "output_type": "display_data"
    }
   ],
   "source": [
    "midi_file = \"music_schumann.mid\"\n",
    "\n",
    "# Run only if generating new MIDI (check if the model is the correct one!)\n",
    "convert_to_midi(map(int_to_note, predictions), midi_file)\n",
    "\n",
    "show_player(midi_file)"
   ]
  },
  {
   "cell_type": "markdown",
   "id": "6981ec55",
   "metadata": {},
   "source": [
    "## Conclusões\n",
    "\n",
    "O modelo foi capaz de gerar um trecho de notas musicais que remetem parcialmente a ideia de uma música. O uso de músicas de um mesmo compositor/artista e do mesmo gênero ajuda neste processo, pois não há o risco de confundir o modelo com muitos dados diferentes.\n",
    "\n",
    "No entanto, algumas notas se encontram com muita frequência, o que é presente no output. Em casos de músicas de input que não possuem muita variedade de notas/repetem muitas vezes certas notas, o modelo pode gerar algo que não soa como uma música.\n",
    "\n",
    "O ponto mais importante é que o conceito de música é subjetivo, e nem sempre utilizar as notas com maior probabilidade pode gerar uma música agradável ao ouvido humano.\n",
    "\n",
    "Para próximas iterações, pode-se aprimorar o modelo para utilizar mais de um instrumento para determinar as notas frequentes, de modo que eles interajam entre si. Pode-se também gerar alterações na lógica para considerar outros fatores além da alta probabilidade de uma nota musical."
   ]
  },
  {
   "cell_type": "markdown",
   "id": "d0d8c523",
   "metadata": {},
   "source": [
    "## Bibliografia\n",
    "\n",
    "[Recurrent Neural Networks](https://www.slideshare.net/xavigiro/recurrent-neural-networks-2-d2l3-deep-learning-for-speech-and-language-upc-2017)  \n",
    "[WaveNet: A Generative Model for Raw Audio](https://arxiv.org/pdf/1609.03499.pdf)  \n",
    "[Keras API](https://keras.io/api/)  \n",
    "[music21 documentation](https://web.mit.edu/music21/doc/index.html)  "
   ]
  }
 ],
 "metadata": {
  "kernelspec": {
   "display_name": "Python 3 (ipykernel)",
   "language": "python",
   "name": "python3"
  },
  "language_info": {
   "codemirror_mode": {
    "name": "ipython",
    "version": 3
   },
   "file_extension": ".py",
   "mimetype": "text/x-python",
   "name": "python",
   "nbconvert_exporter": "python",
   "pygments_lexer": "ipython3",
   "version": "3.9.7"
  }
 },
 "nbformat": 4,
 "nbformat_minor": 5
}
